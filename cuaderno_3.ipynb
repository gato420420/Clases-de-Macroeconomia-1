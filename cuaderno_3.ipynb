{
 "cells": [
  {
   "cell_type": "markdown",
   "id": "e756caa3",
   "metadata": {},
   "source": [
    "# Clase 29-10-2025"
   ]
  },
  {
   "cell_type": "code",
   "execution_count": null,
   "id": "fa68a5fa",
   "metadata": {},
   "outputs": [],
   "source": [
    "# numpy\n",
    "# matplotlib"
   ]
  },
  {
   "cell_type": "code",
   "execution_count": 1,
   "id": "33f32437",
   "metadata": {},
   "outputs": [],
   "source": [
    "import numpy as np\n",
    "import matplotlib.pyplot as plt"
   ]
  },
  {
   "cell_type": "code",
   "execution_count": null,
   "id": "4777bfa7",
   "metadata": {},
   "outputs": [],
   "source": [
    "#C=100+0.5Y\n",
    "#I=150−10r\n",
    "# G=100\n",
    "# Ms=400 , Md = Y−10r\n",
    "\n",
    "# IS: (1-0.5)Y = 100 + 150 +100- 10r ----> Y = 700-20r\n",
    "#LM : Ms = Y - 10r ----> Y = 400 + 10r\n",
    "\n",
    "#Equilibrio\n",
    "# 700−20r = 400 + 10r ---> r* = 10\n",
    "# Y* = 400 + 10(10) = 500\n",
    "\n",
    "# C* = 100 + 0.5(500) = 350\n",
    "#I* = 150 - 10(10) = 50\n",
    "#S* = Y - C - G = 500 - 350 - 100 = 50(=I*)\n",
    "# Multiplicador K = 1 / 1-0.5 = 2"
   ]
  },
  {
   "cell_type": "code",
   "execution_count": 2,
   "id": "22ad9cd6",
   "metadata": {},
   "outputs": [],
   "source": [
    "#--- datos ------\n",
    "\n",
    "C0, C1 = 100, 0.5  # C = 100 + 0.5Y\n",
    "I0, Ir = 150, 10   # I = 150 10r\n",
    "G = 100\n",
    "Ms= 400    # Md = Y -10r"
   ]
  },
  {
   "cell_type": "code",
   "execution_count": 3,
   "id": "179e56d1",
   "metadata": {},
   "outputs": [],
   "source": [
    "# ------ curvas------------\n",
    "\n",
    "def Y_IS(r):# (1-c1)Y = c0 + I0 +  G - Ir*r\n",
    "    return(C0 + I0 + G - Ir *r) / (1-C1)"
   ]
  },
  {
   "cell_type": "code",
   "execution_count": 4,
   "id": "ffe0f618",
   "metadata": {},
   "outputs": [],
   "source": [
    "def Y_LM(r): # Ms = Y -10r ----> Y = Ms + 10r\n",
    "    return Ms + 10*r"
   ]
  },
  {
   "cell_type": "code",
   "execution_count": null,
   "id": "144bae2e",
   "metadata": {},
   "outputs": [],
   "source": [
    "# -----  equilibrio (IS -LM) ------------\n",
    "\n",
    "r_eq = 10\n",
    "Y_eq = Y_LM(r_eq)"
   ]
  },
  {
   "cell_type": "code",
   "execution_count": 6,
   "id": "3a2b3f31",
   "metadata": {},
   "outputs": [],
   "source": [
    "# datos equilibrio --------\n",
    "C_eq = C0 +C1*Y_eq\n",
    "I_eq = I0 - Ir*r_eq\n",
    "S_eq = Y_eq -C_eq -G\n",
    "k = 1 / (1 -C1)"
   ]
  },
  {
   "cell_type": "code",
   "execution_count": 7,
   "id": "b5ad3d99",
   "metadata": {},
   "outputs": [
    {
     "name": "stdout",
     "output_type": "stream",
     "text": [
      "=== IS-LM ===\n",
      "IS: Y = 700 - 20r\n",
      "LM: Y = 400 + 10r\n",
      "r* = 10,  Y* = 500\n",
      "C* = 350.0,  I* = 50,  S* = 50.0\n",
      "Multiplicador k = 2.0\n"
     ]
    }
   ],
   "source": [
    "print(\"=== IS-LM ===\")\n",
    "print(f\"IS: Y = 700 - 20r\")\n",
    "print(f\"LM: Y = 400 + 10r\")\n",
    "print(f\"r* = {r_eq},  Y* = {Y_eq}\")\n",
    "print(f\"C* = {C_eq},  I* = {I_eq},  S* = {S_eq}\")\n",
    "print(f\"Multiplicador k = {k}\")"
   ]
  },
  {
   "cell_type": "code",
   "execution_count": null,
   "id": "b5f704da",
   "metadata": {},
   "outputs": [
    {
     "data": {
      "image/png": "[encoded data removed]",
      "text/plain": [
       "<Figure size 432x288 with 1 Axes>"
      ]
     },
     "metadata": {
      "needs_background": "light"
     },
     "output_type": "display_data"
    }
   ],
   "source": [
    "# ---- Graficar IS-LM -------\n",
    "r_grid = np.linspace(0, 20, 200) # Crea un vector de 200 valores equiespaciados desde 0 hasta 20\n",
    "plt.figure(figsize=(6,4)) # abre una figura nueva de 6*4 pulgadas (ancho*alto)\n",
    "plt.plot(r_grid, Y_IS(r_grid), label =\"IS\")\n",
    "plt.plot(r_grid, Y_LM(r_grid), label=\"LM\") # Dibuja la curva LM con el mismo eje de r.\n",
    "plt.scatter([r_eq], [Y_eq]) # dibuja el punto de equilibrio E* , Lo paso en listas para que scatter entienda que son coordenadas (x=[r*], y=[Y*]).\n",
    "plt.annotate(\"E*\", (r_eq, Y_eq), xytext=(r_eq+1, Y_eq+20))\n",
    "plt.xlabel(\"r (tipo de interés)\")\n",
    "plt.ylabel(\"Y (PIB)\")\n",
    "plt.title(\"IS-LM (Modelo)\")\n",
    "plt.legend() # Muestra la leyenda con los labels “IS” y “LM”.\n",
    "plt.grid(True, linestyle=\":\") # Activa la grilla con línea punteada para leer mejor el cruce.\n",
    "plt.tight_layout() # Ajusta automáticamente márgenes para que nada quede cortado.\n",
    "plt.show() # Renderiza la figura en pantalla.\n"
   ]
  }
 ],
 "metadata": {
  "kernelspec": {
   "display_name": "base",
   "language": "python",
   "name": "python3"
  },
  "language_info": {
   "codemirror_mode": {
    "name": "ipython",
    "version": 3
   },
   "file_extension": ".py",
   "mimetype": "text/x-python",
   "name": "python",
   "nbconvert_exporter": "python",
   "pygments_lexer": "ipython3",
   "version": "3.9.7"
  }
 },
 "nbformat": 4,
 "nbformat_minor": 5
}
