{
 "cells": [
  {
   "cell_type": "code",
   "execution_count": 1,
   "id": "9c325777",
   "metadata": {},
   "outputs": [],
   "source": [
    "# Datos iniciales\n",
    "a = 50\n",
    "b = 0.75\n",
    "I = 200\n",
    "G = 400\n",
    "Tr = 300\n",
    "t = 0.20"
   ]
  },
  {
   "cell_type": "code",
   "execution_count": 2,
   "id": "4955f66e",
   "metadata": {},
   "outputs": [
    {
     "name": "stdout",
     "output_type": "stream",
     "text": [
      "=== CÁLCULOS MACROECONÓMICOS ===\n",
      "\n"
     ]
    }
   ],
   "source": [
    "print(\"=== CÁLCULOS MACROECONÓMICOS ===\\n\")"
   ]
  },
  {
   "cell_type": "code",
   "execution_count": null,
   "id": "4d2bb7e4",
   "metadata": {},
   "outputs": [],
   "source": [
    "# La f antes de las comillas: indica que es un f-string (formatted string). Permite insertar variables o\n",
    "#  expresiones dentro del texto usando { ... }.\n",
    "# La f dentro de {Y:.1f} (sufijo de formato) Esta sí es el tipo de formato y significa fixed-point (punto fijo):\n",
    "#  muestra el número como decimal normal (no científico) con los decimales que indiques.\n",
    "#:.1f = muestra 1 decimal; :.3f = 3 decimales, etc.\n",
    "# {Y:.1f} dentro de las llaves: es un especificador de formato.\n",
    "# f = formatea como número de punto flotante (float)\n",
    "# \\n al final: es un salto de línea (newline)."
   ]
  },
  {
   "cell_type": "markdown",
   "id": "e528ca7d",
   "metadata": {},
   "source": [
    "\n",
    "**Cálculo numérico:**\n",
    "$$\n",
    "Y = \\frac{1}{1 - 0.75(1 - 0.20)}(50 + 0.75 \\times 300 + 200 + 400) = \\frac{875}{0.4} = 2187.5\n",
    "$$"
   ]
  },
  {
   "cell_type": "code",
   "execution_count": 4,
   "id": "74a34fca",
   "metadata": {},
   "outputs": [
    {
     "name": "stdout",
     "output_type": "stream",
     "text": [
      "a) Valor del PIB en el punto de equilibrio:\n",
      "Y = (50 + 0.75×300 + 200 + 400) / (1 - 0.75×(1 - 0.2))\n",
      "Y = (875.0) / (0.4)\n",
      "Y = 2187.5\n",
      "\n"
     ]
    }
   ],
   "source": [
    "# a) PIB en equilibrio\n",
    "print(\"a) Valor del PIB en el punto de equilibrio:\")\n",
    "Y = (a + b*Tr + I + G) / (1 - b*(1 - t))\n",
    "print(f\"Y = ({a} + {b}×{Tr} + {I} + {G}) / (1 - {b}×(1 - {t}))\")\n",
    "print(f\"Y = ({a + b*Tr + I + G}) / ({1 - b*(1-t):.1f})\")\n",
    "print(f\"Y = {Y:.1f}\\n\")"
   ]
  },
  {
   "cell_type": "markdown",
   "id": "7f1ca502",
   "metadata": {},
   "source": [
    "**b) Multiplicador:**\n",
    "$$\n",
    "k = \\frac{1}{1 - b(1 - t)}\n",
    "$$"
   ]
  },
  {
   "cell_type": "code",
   "execution_count": 10,
   "id": "3e64fb9e",
   "metadata": {},
   "outputs": [
    {
     "name": "stdout",
     "output_type": "stream",
     "text": [
      "b) Valor del multiplicador:\n",
      "k = 1 / (1 - 0.75×(1 - 0.2))\n",
      "k = 1 / (1 - 0.6)\n",
      "k = 2.5\n",
      "\n"
     ]
    }
   ],
   "source": [
    "# b) Multiplicador\n",
    "print(\"b) Valor del multiplicador:\")\n",
    "k = 1 / (1 - b*(1 - t))\n",
    "print(f\"k = 1 / (1 - {b}×(1 - {t}))\")\n",
    "print(f\"k = 1 / (1 - {b*(1-t):.1f})\")\n",
    "print(f\"k = {k:.1f}\\n\")"
   ]
  },
  {
   "cell_type": "markdown",
   "id": "71c12fbb",
   "metadata": {},
   "source": [
    "**c) Gasto autónomo:**\n",
    "$$\n",
    "A = a + bTr + I + G\n",
    "$$"
   ]
  },
  {
   "cell_type": "code",
   "execution_count": 11,
   "id": "7802cfff",
   "metadata": {},
   "outputs": [
    {
     "name": "stdout",
     "output_type": "stream",
     "text": [
      "c) Valor del gasto autónomo:\n",
      "A = 50 + 0.75×300 + 200 + 400\n",
      "A = 875.0\n",
      "\n"
     ]
    }
   ],
   "source": [
    "# c) Gasto autónomo\n",
    "print(\"c) Valor del gasto autónomo:\")\n",
    "A = a + b*Tr + I + G\n",
    "print(f\"A = {a} + {b}×{Tr} + {I} + {G}\")\n",
    "print(f\"A = {A}\\n\")"
   ]
  },
  {
   "cell_type": "markdown",
   "id": "537a1867",
   "metadata": {},
   "source": [
    "**e) Consumo:**\n",
    "$$\n",
    "C = a + b(Y + Tr - tY)\n",
    "$$"
   ]
  },
  {
   "cell_type": "code",
   "execution_count": 12,
   "id": "77790472",
   "metadata": {},
   "outputs": [
    {
     "name": "stdout",
     "output_type": "stream",
     "text": [
      "e) Valor del consumo en equilibrio:\n",
      "Yd = Y + Tr - tY = 2187.5 + 300 - 0.2×2187.5\n",
      "Yd = 2050.0\n",
      "C = 50 + 0.75×2050.0\n",
      "C = 1587.5\n",
      "\n"
     ]
    }
   ],
   "source": [
    "# e) Consumo en equilibrio\n",
    "print(\"e) Valor del consumo en equilibrio:\")\n",
    "Yd = Y + Tr - t*Y  # Ingreso disponible\n",
    "C = a + b*Yd\n",
    "print(f\"Yd = Y + Tr - tY = {Y:.1f} + {Tr} - {t}×{Y:.1f}\")\n",
    "print(f\"Yd = {Yd:.1f}\")\n",
    "print(f\"C = {a} + {b}×{Yd:.1f}\")\n",
    "print(f\"C = {C:.1f}\\n\")"
   ]
  },
  {
   "cell_type": "markdown",
   "id": "f0bebf9b",
   "metadata": {},
   "source": [
    "**g) Ecuación consumo simplificada:**\n",
    "$$\n",
    "C = (a + bTr) + b(1 - t)Y\n",
    "$$"
   ]
  },
  {
   "cell_type": "code",
   "execution_count": 13,
   "id": "46f82a4f",
   "metadata": {},
   "outputs": [
    {
     "name": "stdout",
     "output_type": "stream",
     "text": [
      "g) Ecuación consumo:\n",
      "C = 50 + 0.75(Y + 300 - 0.2Y)\n",
      "C = 50 + 0.75(0.8Y + 300)\n",
      "C = 50 + 0.6Y + 225.0\n",
      "C = 275.0 + 0.6Y\n",
      "C = 275 + 0.6Y\n",
      "\n"
     ]
    }
   ],
   "source": [
    "# g) Ecuación consumo\n",
    "print(\"g) Ecuación consumo:\")\n",
    "print(f\"C = {a} + {b}(Y + {Tr} - {t}Y)\")\n",
    "print(f\"C = {a} + {b}({1-t}Y + {Tr})\")\n",
    "print(f\"C = {a} + {b*(1-t):.1f}Y + {b*Tr}\")\n",
    "print(f\"C = {a + b*Tr} + {b*(1-t):.1f}Y\")\n",
    "print(f\"C = {275} + 0.6Y\\n\")"
   ]
  },
  {
   "cell_type": "markdown",
   "id": "7891c069",
   "metadata": {},
   "source": [
    "**h) Ecuación ahorro:**\n",
    "$$\n",
    "S = (1 - b)(1 - t)Y + (1 - b)Tr - a\n",
    "$$"
   ]
  },
  {
   "cell_type": "code",
   "execution_count": 14,
   "id": "f6d3b15a",
   "metadata": {},
   "outputs": [
    {
     "name": "stdout",
     "output_type": "stream",
     "text": [
      "h) Ecuación ahorro:\n",
      "S = Y - T - C\n",
      "S = Y - 0.2Y - (275 + 0.6Y)\n",
      "S = 0.8Y - 275 - 0.6Y\n",
      "S = 0.2Y - 275\n",
      "\n"
     ]
    }
   ],
   "source": [
    "# h) Ecuación ahorro\n",
    "print(\"h) Ecuación ahorro:\")\n",
    "print(\"S = Y - T - C\")\n",
    "print(f\"S = Y - {t}Y - ({275} + 0.6Y)\")\n",
    "print(f\"S = {1-t}Y - 275 - 0.6Y\")\n",
    "print(f\"S = 0.2Y - 275\\n\")"
   ]
  }
 ],
 "metadata": {
  "kernelspec": {
   "display_name": "Python 3",
   "language": "python",
   "name": "python3"
  },
  "language_info": {
   "codemirror_mode": {
    "name": "ipython",
    "version": 3
   },
   "file_extension": ".py",
   "mimetype": "text/x-python",
   "name": "python",
   "nbconvert_exporter": "python",
   "pygments_lexer": "ipython3",
   "version": "3.12.5"
  }
 },
 "nbformat": 4,
 "nbformat_minor": 5
}
